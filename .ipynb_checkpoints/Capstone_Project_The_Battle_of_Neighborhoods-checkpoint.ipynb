{
 "cells": [
  {
   "cell_type": "markdown",
   "metadata": {},
   "source": [
    "# The Battle of Neighborhoods - Best restaurants in Buenos Aires"
   ]
  },
  {
   "cell_type": "markdown",
   "metadata": {},
   "source": [
    "## Introduction/Business Problem"
   ]
  },
  {
   "cell_type": "markdown",
   "metadata": {},
   "source": [
    "<div>\n",
    "<p style = 'text-align:center;'>\n",
    "\n",
    "<img src=\"Obelisk_Buenos_Aires.jpg\" alt=\"Obelisco\" width=\"100%\" height=\"100%\">\n",
    "</p>\n",
    "</div>"
   ]
  },
  {
   "cell_type": "markdown",
   "metadata": {},
   "source": [
    "Buenos Aires is one of the most visited cities in South America, it has 48 neighborhoods and is also the main cultural center of the country. \n",
    "\n",
    "It is the city with the highest concentration of theaters in the world, even on New York and Paris, being the Teatro Colón one of the 5 most important opera houses in the world, due to its trajectory and impeccable acoustics. \n",
    "\n",
    "The architecture mixes modern skyscrapers with Art Deco, Art Nouveau, Neo-Gothic and French styles, which has made it known as the Paris of America. Another feature of the city are the domes on its buildings, built by the bourgeoisie at the beginning of the 20th century.\n",
    "\n",
    "The gastronomy of Buenos Aires stands out for its meats. In the city there are good restaurants at affordable prices to taste this type of cuisine. Some of the must-sees are the argentine barbecue or \"parrillada\", which corresponds to different cuts of meat accompanied by potatoes or salads, which can be enjoyed throughout the city. Another well-known dish is the chorizo steak, a great cut of soft and tasty meat that is eaten with french fries or salads.\n",
    "\n",
    "Other typical foods are choripán, a grilled chorizo sandwich and chimichurri, a dressing sauce made with oregano, spices and parsley.\n",
    "\n",
    "To accompany all these dishes, the most consumed wine is Malbec, the most prominent strain of argentine wineries."
   ]
  },
  {
   "cell_type": "markdown",
   "metadata": {},
   "source": [
    "## Data to be used"
   ]
  },
  {
   "cell_type": "markdown",
   "metadata": {},
   "source": [
    "It is difficult for the visitor to choose a place to taste the famous argentine meat, so if it is interesting to visit the city this information will be very useful.\n",
    "\n",
    "The idea is to analyze the best alternatives to taste these dishes, using Foursquare data to segment and group the information by neighborhood, category, rating and other useful data, in order to facilitate the visitor's choice."
   ]
  },
  {
   "cell_type": "code",
   "execution_count": null,
   "metadata": {},
   "outputs": [],
   "source": []
  }
 ],
 "metadata": {
  "kernelspec": {
   "display_name": "Python 3",
   "language": "python",
   "name": "python3"
  },
  "language_info": {
   "codemirror_mode": {
    "name": "ipython",
    "version": 3
   },
   "file_extension": ".py",
   "mimetype": "text/x-python",
   "name": "python",
   "nbconvert_exporter": "python",
   "pygments_lexer": "ipython3",
   "version": "3.7.6"
  }
 },
 "nbformat": 4,
 "nbformat_minor": 4
}
